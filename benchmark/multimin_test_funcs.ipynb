{
 "cells": [
  {
   "cell_type": "code",
   "execution_count": null,
   "metadata": {},
   "outputs": [],
   "source": [
    "import os\n",
    "import matplotlib.pyplot as plt\n",
    "from pathlib import Path\n",
    "import numpy as np\n",
    "import sys\n",
    "from matplotlib import animation, rc\n",
    "from IPython.display import HTML, Image\n",
    "import pandas as pd\n",
    "\n",
    "src_dir = os.path.abspath(\"/home/mmfarrugia/repos/optimization/hybrid_optimizer\")\n",
    "sys.path.append(src_dir)\n",
    "\n",
    "from hybrid_optimizer import PSO_DE\n",
    "from pyswarms.utils.plotters.formatters import Mesher, Designer\n",
    "from pyswarms.utils.plotters.plotters import plot_cost_history, plot_contour\n",
    "from plotters import plot_summary, plot_surface\n",
    "import example_funcs\n",
    "\n",
    "technical_replicates = 10\n",
    "size_pop = 50\n",
    "max_iter = 200"
   ]
  },
  {
   "cell_type": "code",
   "execution_count": null,
   "metadata": {},
   "outputs": [],
   "source": [
    "# Universal config setup\n",
    "random_config = {\n",
    "    'name': 'Random',\n",
    "    \"n_dim\": 2,\n",
    "    \"size_pop\": size_pop,\n",
    "    \"vectorize_func\": False,\n",
    "    \"taper_DE\": False,\n",
    "    \"max_iter\": max_iter,\n",
    "    \"guess_deviation\":0,\n",
    "    \"guess_ratio\":1.0,\n",
    "    \"mutation_strategy\": 'DE/rand/1'\n",
    "}\n",
    "random_fixedF_config = {\n",
    "    'name': 'RandomFixedF',\n",
    "    \"n_dim\": 2,\n",
    "    \"size_pop\": size_pop,\n",
    "    \"vectorize_func\": False,\n",
    "    \"F\": (0.5, 0.5),\n",
    "    \"taper_DE\": False,\n",
    "    \"max_iter\": max_iter,\n",
    "    \"guess_deviation\":0,\n",
    "    \"guess_ratio\":1.0,\n",
    "    \"mutation_strategy\": 'DE/rand/1'\n",
    "}\n",
    "best_config = {\n",
    "    'name': 'Best',\n",
    "    \"n_dim\": 2,\n",
    "    \"size_pop\": size_pop,\n",
    "    \"vectorize_func\": False,\n",
    "    \"taper_DE\": False,\n",
    "    \"max_iter\": max_iter,\n",
    "    \"guess_deviation\":0,\n",
    "    \"guess_ratio\":1.0,\n",
    "    \"mutation_strategy\": 'DE/best/1'\n",
    "}\n",
    "best_fixedF_config = {\n",
    "    'name': 'BestFixedF',\n",
    "    \"n_dim\": 2,\n",
    "    \"F\": (0.5, 0.5),\n",
    "    \"size_pop\": size_pop,\n",
    "    \"vectorize_func\": False,\n",
    "    \"taper_DE\": False,\n",
    "    \"max_iter\": max_iter,\n",
    "    \"guess_deviation\":0,\n",
    "    \"guess_ratio\":1.0,\n",
    "    \"mutation_strategy\": 'DE/best/1'\n",
    "}\n",
    "\n",
    "taper_rand_config = {\n",
    "    'name': 'RandTaperFreq',\n",
    "    \"n_dim\": 2,\n",
    "    \"size_pop\": size_pop,\n",
    "    \"vectorize_func\": False,\n",
    "    \"taper_DE\": True,\n",
    "    \"max_iter\": max_iter,\n",
    "    \"guess_deviation\":0,\n",
    "    \"guess_ratio\":1.0,\n",
    "    \"mutation_strategy\": 'DE/rand/1'\n",
    "}\n",
    "\n",
    "taper_best_config = {\n",
    "    'name': 'BestTaperFreq',\n",
    "    \"n_dim\": 2,\n",
    "    \"size_pop\": size_pop,\n",
    "    \"vectorize_func\": False,\n",
    "    \"taper_DE\": True,\n",
    "    \"max_iter\": max_iter,\n",
    "    \"guess_deviation\":0,\n",
    "    \"guess_ratio\":1.0,\n",
    "    \"mutation_strategy\": 'DE/best/1'\n",
    "}\n",
    "\n",
    "configs = [random_config, random_fixedF_config, best_config, best_fixedF_config, taper_rand_config, taper_best_config]"
   ]
  },
  {
   "cell_type": "code",
   "execution_count": null,
   "metadata": {},
   "outputs": [],
   "source": [
    "def run_plot_opts(function, constraint_uneq, dimensions, config_list, technical_replicates, name):\n",
    "    fig, ax = plt.subplots(1, len(config_list), figsize=(5.5*len(config_list),6), sharey=True)\n",
    "    fig.suptitle(name)\n",
    "    opts = {}\n",
    "    full_opts = {}\n",
    "    for i, config in enumerate(config_list):\n",
    "        opt_name = config['name']\n",
    "        full_opts[opt_name] = []\n",
    "        opt = (PSO_DE(function, n_dim=dimensions, config=config))\n",
    "        opt.record_mode = True\n",
    "        opt.run()\n",
    "        print('i: best_x is ', opt.gbest_x, 'best_y is', opt.gbest_y)\n",
    "        opts[opt_name] = opt\n",
    "        full_opts[opt_name].append(opt)\n",
    "        sum_loss = np.array(opt.gbest_y_hist)\n",
    "        sum_x = np.array(opt.gbest_x)\n",
    "        sum_y = opt.gbest_y\n",
    "        for t in range(technical_replicates-1):\n",
    "            opt = (PSO_DE(function, n_dim=dimensions, config=config, constraint_ueq=constraint_uneq))\n",
    "            opt.record_mode = True\n",
    "            opt.run()\n",
    "            full_opts[opt_name].append(opt)\n",
    "            sum_loss += opt.gbest_y_hist\n",
    "            sum_x += opt.gbest_x\n",
    "            sum_y += opt.gbest_y\n",
    "        #fig.add_subplot(1, len(configs), i+1)\n",
    "        average_loss = np.divide(sum_loss, technical_replicates)\n",
    "        average_x = np.divide(sum_x, technical_replicates)\n",
    "        average_y = sum_y / technical_replicates\n",
    "        #average_x = [\"{:.5e}\".format(x) for x in average_x]\n",
    "        results_text =  \"{:.5e}\".format(average_y[0]) + ' @ X: ' + str(average_x)\n",
    "        ax[i].plot(average_loss)\n",
    "        #plt.xlabel('Iteration')\n",
    "        ax[i].set_ylabel('Best Known F(X)')\n",
    "        ax[i].annotate(results_text, (0,0), (0,-20), xycoords='axes fraction', textcoords='offset points', va='top')\n",
    "        ax[i].set_title(opt_name)\n",
    "\n",
    "    fig.tight_layout()\n",
    "    plt.show()\n",
    "\n",
    "    return opts, full_opts"
   ]
  },
  {
   "cell_type": "code",
   "execution_count": null,
   "metadata": {},
   "outputs": [],
   "source": [
    "def plot_swarm_w_loss(opts, config_list, title=\"Swarm Diversity & Loss\"):\n",
    "    Y_history = []\n",
    "    fig, ax = plt.subplots(2, len(opts), figsize=(5*len(config_list),8), sharey='row')\n",
    "    fig.suptitle(title)\n",
    "    for i, key in enumerate(opts):\n",
    "        opt = opts[key]\n",
    "        Y_history = pd.DataFrame(np.array(opt.record_value['Y']).reshape((-1, opt.size_pop)))\n",
    "        ax[0,i].plot(Y_history.index, Y_history.values, '.')\n",
    "        ax[0,i].set_title(config_list[i]['name'])\n",
    "        Y_history.min(axis=1).cummin().plot(kind='line', ax=ax[1,i])\n",
    "        print(len(Y_history))\n",
    "    plt.show()"
   ]
  },
  {
   "cell_type": "markdown",
   "metadata": {},
   "source": [
    "Himmelblau's  objective function\n",
    "\n",
    "    Only takes two dimensions and has a four equal global minimums\n",
    "     of zero at :code:`f([3.0,2.0])`, :code:`f([-2.805118,3.131312])`,\n",
    "     :code:`f([-3.779310,-3.283186])`, and :code:`f([3.584428,-1.848126])`.\n",
    "    Its coordinates are bounded within :code:`[-5,5]`.\n",
    "\n",
    "    Best visualized with the full domain and a range of :code:`[0,1000]`"
   ]
  },
  {
   "cell_type": "code",
   "execution_count": null,
   "metadata": {},
   "outputs": [],
   "source": [
    "n_dim = 2\n",
    "lb = [-5.0, -5.0]\n",
    "ub = [5.0, 5.0]\n",
    "size_pop = 100\n",
    "common_start = np.random.uniform(low=lb, high=ub, size=(size_pop, n_dim))\n",
    "global_opt = (-3.779310,-3.283186, 0.)"
   ]
  },
  {
   "cell_type": "code",
   "execution_count": null,
   "metadata": {},
   "outputs": [],
   "source": [
    "from plotters import plot_cost_history, plot_contour, plot_surface, Mesher, Designer\n",
    "#Plot the sphere function's mesh for better plots\n",
    "m = Mesher(func=example_funcs.himmelblau, limits=[(-5,5), (-5,5)], levels = [1e-5, 1e-4, 0.001, 0.01, 0.1, 1., 10, 100, 1000])\n",
    "#Adjust figure limits\n",
    "d = Designer(limits=[(-5,5), (-5,5), (0,1000)], label=['x-axis', 'y-axis', 'z-axis'])"
   ]
  },
  {
   "cell_type": "code",
   "execution_count": null,
   "metadata": {},
   "outputs": [],
   "source": [
    "common_start = np.random.uniform(low=lb, high=ub, size=(size_pop, n_dim))\n",
    "\n",
    "for config in configs:\n",
    "    config[\"initial_guesses\"] = common_start\n",
    "    config[\"lb\"] = lb\n",
    "    config[\"ub\"] = ub\n",
    "    config[\"n_dim\"] = n_dim\n",
    "    config[\"vectorize_func\"] = False\n"
   ]
  },
  {
   "cell_type": "code",
   "execution_count": null,
   "metadata": {},
   "outputs": [],
   "source": [
    "opts, full_opts = run_plot_opts(example_funcs.himmelblau, [lambda x: x[1]-x[0]-1, lambda x: x[0]-1-x[1]], n_dim, configs, technical_replicates, 'Himmelblau Constrained\\nAverage Loss Over Optimization with '+ str(technical_replicates) + ' Technical Replicates')"
   ]
  },
  {
   "cell_type": "code",
   "execution_count": null,
   "metadata": {},
   "outputs": [],
   "source": [
    "plot_swarm_w_loss(opts, configs, 'Himmelblau Constrained')"
   ]
  },
  {
   "cell_type": "markdown",
   "metadata": {},
   "source": [
    "'Rand' Mutation\n",
    "/DE/rand/1"
   ]
  },
  {
   "cell_type": "code",
   "execution_count": null,
   "metadata": {},
   "outputs": [],
   "source": [
    "ho_rand_1 = PSO_DE(example_funcs.himmelblau, constraint_ueq=[lambda x: x[1]-x[0]-1, lambda x: x[0]-1-x[1]],  n_dim=2, config=random_config)\n",
    "ho_rand_1.record_mode = True\n",
    "ho_rand_1.run()\n",
    "print('best_x is ', ho_rand_1.gbest_x, 'best_y is', ho_rand_1.gbest_y)\n",
    "plt.plot(ho_rand_1.gbest_y_hist)\n",
    "plt.show()"
   ]
  },
  {
   "cell_type": "markdown",
   "metadata": {},
   "source": [
    "'Best' Mutation\n",
    "/DE/best/1"
   ]
  },
  {
   "cell_type": "code",
   "execution_count": null,
   "metadata": {},
   "outputs": [],
   "source": [
    "ho_best_1 = PSO_DE(example_funcs.himmelblau, constraint_ueq=[lambda x: x[1]-x[0]-1, lambda x: x[0]-1-x[1]], n_dim=2, config=best_config)\n",
    "ho_best_1.record_mode = True\n",
    "ho_best_1.run()\n",
    "print('best_x is ', ho_best_1.gbest_x, 'best_y is', ho_best_1.gbest_y)\n",
    "plt.plot(ho_best_1.gbest_y_hist)\n",
    "plt.show()"
   ]
  },
  {
   "cell_type": "code",
   "execution_count": null,
   "metadata": {},
   "outputs": [],
   "source": [
    "import pandas as pd\n",
    "\n",
    "Y_history_rand = pd.DataFrame(np.array(ho_rand_1.record_value['Y']).reshape((-1, ho_rand_1.size_pop)))\n",
    "Y_history_best = pd.DataFrame(np.array(ho_best_1.record_value['Y']).reshape((-1, ho_best_1.size_pop)))\n",
    "fig, ax = plt.subplots(2, 2)\n",
    "fig.suptitle('Himmelblau')\n",
    "ax[0,0].set_title('DE/rand/1')\n",
    "ax[0,1].set_title('DE/best/1')\n",
    "ax[1,0].set_title(str(ho_rand_1.gbest_y)+' @ X: '+str(ho_rand_1.gbest_x))\n",
    "ax[1,1].set_title(str(ho_best_1.gbest_y)+' @ X: '+str(ho_best_1.gbest_x))\n",
    "ax[0,0].plot(Y_history_rand.index, Y_history_rand.values, '.', color='red')\n",
    "ax[0,1].plot(Y_history_best.index, Y_history_best.values, '.', color='red')\n",
    "Y_history_rand.min(axis=1).cummin().plot(kind='line', ax=ax[1,0])\n",
    "Y_history_best.min(axis=1).cummin().plot(kind='line', ax=ax[1,1])\n",
    "plt.show()"
   ]
  },
  {
   "cell_type": "code",
   "execution_count": null,
   "metadata": {},
   "outputs": [],
   "source": []
  },
  {
   "cell_type": "code",
   "execution_count": null,
   "metadata": {},
   "outputs": [],
   "source": [
    "%%capture plsGod\n",
    "\n",
    "Y_history_rand = pd.DataFrame(np.array(ho_rand_1.record_value['Y']).reshape((-1, ho_rand_1.size_pop)))\n",
    "Y_history_best = pd.DataFrame(np.array(ho_best_1.record_value['Y']).reshape((-1, ho_best_1.size_pop)))\n",
    "fig, ax = plt.subplots(3, 2)\n",
    "fig.suptitle('Himmelblau')\n",
    "ax[0,0].set_title('DE/rand/1')\n",
    "ax[0,1].set_title('DE/best/1')\n",
    "ax[1,0].set_title(str(ho_rand_1.gbest_y)+' @ X: '+str(ho_rand_1.gbest_x), fontsize=8)\n",
    "ax[1,1].set_title(str(ho_best_1.gbest_y)+' @ X: '+str(ho_best_1.gbest_x))\n",
    "ax[0,0].plot(Y_history_rand.index, Y_history_rand.values, '.', color='red')\n",
    "ax[0,1].plot(Y_history_best.index, Y_history_best.values, '.', color='red')\n",
    "Y_history_rand.min(axis=1).cummin().plot(kind='line', ax=ax[1,0])\n",
    "Y_history_best.min(axis=1).cummin().plot(kind='line', ax=ax[1,1])\n",
    "plot_contour(pos_history=ho_rand_1.record_value['X'], mesher=m, designer=d, canvas=(fig, ax[2,0]))\n",
    "#plot_contour(pos_history=ho_best_1.record_value['X'], mesher=m, designer=d, ax=ax[2,1])\n",
    "plt.show()\n"
   ]
  },
  {
   "cell_type": "code",
   "execution_count": null,
   "metadata": {},
   "outputs": [],
   "source": [
    "%%capture\n",
    "\n",
    "#Make animation\n",
    "animation2D_rand = plot_contour(pos_history=ho_rand_1.record_value['X'], mesher=m, designer=d)\n"
   ]
  },
  {
   "cell_type": "code",
   "execution_count": null,
   "metadata": {},
   "outputs": [],
   "source": [
    "animation2D_rand.save('himmelblau_constrained_rand.gif', writer='ffmpeg', fps=15)"
   ]
  },
  {
   "cell_type": "code",
   "execution_count": null,
   "metadata": {},
   "outputs": [],
   "source": [
    "Image('himmelblau_constrained_rand.gif')"
   ]
  },
  {
   "cell_type": "code",
   "execution_count": null,
   "metadata": {},
   "outputs": [],
   "source": [
    "%%capture\n",
    "\n",
    "#Make animation\n",
    "animation2D_best = plot_contour(pos_history=ho_best_1.record_value['X'], mesher=m, designer=d)\n"
   ]
  },
  {
   "cell_type": "code",
   "execution_count": null,
   "metadata": {},
   "outputs": [],
   "source": [
    "animation2D_best.save('himmelblau__constrained_best.gif', writer='ffmpeg', fps=15)"
   ]
  },
  {
   "cell_type": "code",
   "execution_count": null,
   "metadata": {},
   "outputs": [],
   "source": [
    "Image('himmelblau_constrained_best.gif')"
   ]
  },
  {
   "cell_type": "code",
   "execution_count": null,
   "metadata": {},
   "outputs": [],
   "source": [
    "from PIL import Image as img\n",
    "fig, ax = plt.subplots(1, 2, figsize=(10,7))\n",
    "fig.suptitle('Himmelblau', fontsize=24)\n",
    "ax[0].set_title('DE/rand/1')\n",
    "ax[1].set_title('DE/best/1')\n",
    "  \n",
    "# showing image \n",
    "ax[0].imshow(np.asarray(img.open('himmelblau_constrained_rand.gif'))) \n",
    "ax[0].axis('off') \n",
    "\n",
    "ax[1].imshow(np.asarray(img.open('himmelblau__constrained_best.gif'))) \n",
    "ax[1].axis('off')\n",
    "\n",
    "fig.tight_layout()\n",
    "# fig.add_subplot(rows, columns, 2) \n",
    "# plt.imshow(Image('himmelblau_best.gif')) \n",
    "# plt.axis('off') \n",
    "# plt.title(\"DE/best/1\")"
   ]
  },
  {
   "cell_type": "code",
   "execution_count": null,
   "metadata": {},
   "outputs": [],
   "source": [
    "pos_history_3d_rand = m.compute_history_3d(ho_rand_1.record_value['X']) #preprocessing"
   ]
  },
  {
   "cell_type": "code",
   "execution_count": null,
   "metadata": {},
   "outputs": [],
   "source": [
    "%%capture\n",
    "\n",
    "animation3d_rand = plot_surface(pos_history=pos_history_3d_rand, mesher=m, designer=d)\n",
    "plt.show()\n"
   ]
  },
  {
   "cell_type": "code",
   "execution_count": null,
   "metadata": {},
   "outputs": [],
   "source": [
    "animation3d_rand.save('himmelblau_constrained_3d_rand.gif', writer='ffmpeg', fps=15)\n",
    "Image(url='himmelblau_constrained_3d_rand.gif')"
   ]
  },
  {
   "cell_type": "code",
   "execution_count": null,
   "metadata": {},
   "outputs": [],
   "source": [
    "pos_history_3d_best = m.compute_history_3d(ho_best_1.record_value['X']) #preprocessing"
   ]
  },
  {
   "cell_type": "code",
   "execution_count": null,
   "metadata": {},
   "outputs": [],
   "source": [
    "%%capture\n",
    "\n",
    "animation3d_best = plot_surface(pos_history=pos_history_3d_best, mesher=m, designer=d)\n",
    "plt.show()\n"
   ]
  },
  {
   "cell_type": "code",
   "execution_count": null,
   "metadata": {},
   "outputs": [],
   "source": [
    "animation3d_best.save('himmelblau_constrained_3d_best.gif', writer='ffmpeg', fps=15)\n",
    "Image(url='himmelblau_constrained_3d_best.gif')"
   ]
  },
  {
   "cell_type": "code",
   "execution_count": null,
   "metadata": {},
   "outputs": [],
   "source": [
    "opts = [ho_rand_1, ho_best_1]"
   ]
  },
  {
   "cell_type": "code",
   "execution_count": null,
   "metadata": {},
   "outputs": [],
   "source": [
    "%%capture\n",
    "\n",
    "ani_summary = plot_summary(optimizers=opts, title=\"Himmelblau\", titles=[opt.mutation_strategy for opt in opts],  n_processes=8, mesher=m, designer=d)\n",
    "plt.show()"
   ]
  },
  {
   "cell_type": "code",
   "execution_count": null,
   "metadata": {},
   "outputs": [],
   "source": [
    "ani_summary.save('himmelblau_constrained_fig.gif', writer='ffmpeg', fps=15)\n",
    "Image(url='himmelblau_constrained_fig.gif')"
   ]
  },
  {
   "cell_type": "code",
   "execution_count": null,
   "metadata": {},
   "outputs": [],
   "source": []
  },
  {
   "cell_type": "code",
   "execution_count": null,
   "metadata": {},
   "outputs": [],
   "source": []
  },
  {
   "cell_type": "code",
   "execution_count": null,
   "metadata": {},
   "outputs": [],
   "source": []
  },
  {
   "cell_type": "code",
   "execution_count": null,
   "metadata": {},
   "outputs": [],
   "source": []
  }
 ],
 "metadata": {
  "kernelspec": {
   "display_name": "pso_de_ho",
   "language": "python",
   "name": "python3"
  },
  "language_info": {
   "codemirror_mode": {
    "name": "ipython",
    "version": 3
   },
   "file_extension": ".py",
   "mimetype": "text/x-python",
   "name": "python",
   "nbconvert_exporter": "python",
   "pygments_lexer": "ipython3",
   "version": "3.11.2"
  },
  "orig_nbformat": 4
 },
 "nbformat": 4,
 "nbformat_minor": 2
}
