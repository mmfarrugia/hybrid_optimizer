{
 "cells": [
  {
   "cell_type": "code",
   "execution_count": null,
   "metadata": {},
   "outputs": [],
   "source": [
    "import os\n",
    "import matplotlib.pyplot as plt\n",
    "from pathlib import Path\n",
    "import numpy as np\n",
    "import sys\n",
    "from matplotlib import animation, rc\n",
    "from IPython.display import HTML, Image\n",
    "import pandas as pd\n",
    "\n",
    "src_dir = os.path.abspath(\"/home/mmfarrugia/repos/optimization/hybrid_optimizer\")\n",
    "sys.path.append(src_dir)\n",
    "\n",
    "from hybrid_optimizer import PSO_DE\n",
    "from pyswarms.utils.plotters.formatters import Mesher, Designer\n",
    "from pyswarms.utils.plotters.plotters import plot_cost_history, plot_contour\n",
    "from plotters import plot_summary, plot_surface\n",
    "import example_funcs\n",
    "\n",
    "technical_replicates = 10\n",
    "size_pop = 50\n",
    "max_iter = 200"
   ]
  },
  {
   "cell_type": "code",
   "execution_count": null,
   "metadata": {},
   "outputs": [],
   "source": [
    "# Universal config setup\n",
    "random_config = {\n",
    "    'name': 'Random',\n",
    "    \"n_dim\": 2,\n",
    "    \"size_pop\": size_pop,\n",
    "    \"vectorize_func\": False,\n",
    "    \"taper_DE\": False,\n",
    "    \"max_iter\": max_iter,\n",
    "    \"guess_deviation\":0,\n",
    "    \"guess_ratio\":1.0,\n",
    "    \"mutation_strategy\": 'DE/rand/1'\n",
    "}\n",
    "random_fixedF_config = {\n",
    "    'name': 'RandomFixedF',\n",
    "    \"n_dim\": 2,\n",
    "    \"size_pop\": size_pop,\n",
    "    \"vectorize_func\": False,\n",
    "    \"F\": (0.5, 0.5),\n",
    "    \"taper_DE\": False,\n",
    "    \"max_iter\": max_iter,\n",
    "    \"guess_deviation\":0,\n",
    "    \"guess_ratio\":1.0,\n",
    "    \"mutation_strategy\": 'DE/rand/1'\n",
    "}\n",
    "best_config = {\n",
    "    'name': 'Best',\n",
    "    \"n_dim\": 2,\n",
    "    \"size_pop\": size_pop,\n",
    "    \"vectorize_func\": False,\n",
    "    \"taper_DE\": False,\n",
    "    \"max_iter\": max_iter,\n",
    "    \"guess_deviation\":0,\n",
    "    \"guess_ratio\":1.0,\n",
    "    \"mutation_strategy\": 'DE/best/1'\n",
    "}\n",
    "best_fixedF_config = {\n",
    "    'name': 'BestFixedF',\n",
    "    \"n_dim\": 2,\n",
    "    \"F\": (0.5, 0.5),\n",
    "    \"size_pop\": size_pop,\n",
    "    \"vectorize_func\": False,\n",
    "    \"taper_DE\": False,\n",
    "    \"max_iter\": max_iter,\n",
    "    \"guess_deviation\":0,\n",
    "    \"guess_ratio\":1.0,\n",
    "    \"mutation_strategy\": 'DE/best/1'\n",
    "}\n",
    "\n",
    "taper_rand_config = {\n",
    "    'name': 'RandTaperFreq',\n",
    "    \"n_dim\": 2,\n",
    "    \"size_pop\": size_pop,\n",
    "    \"vectorize_func\": False,\n",
    "    \"taper_DE\": True,\n",
    "    \"max_iter\": max_iter,\n",
    "    \"guess_deviation\":0,\n",
    "    \"guess_ratio\":1.0,\n",
    "    \"mutation_strategy\": 'DE/rand/1'\n",
    "}\n",
    "\n",
    "taper_best_config = {\n",
    "    'name': 'BestTaperFreq',\n",
    "    \"n_dim\": 2,\n",
    "    \"size_pop\": size_pop,\n",
    "    \"vectorize_func\": False,\n",
    "    \"taper_DE\": True,\n",
    "    \"max_iter\": max_iter,\n",
    "    \"guess_deviation\":0,\n",
    "    \"guess_ratio\":1.0,\n",
    "    \"mutation_strategy\": 'DE/best/1'\n",
    "}\n",
    "\n",
    "configs = [random_config, random_fixedF_config, best_config, best_fixedF_config, taper_rand_config, taper_best_config]"
   ]
  },
  {
   "cell_type": "code",
   "execution_count": null,
   "metadata": {},
   "outputs": [],
   "source": [
    "def run_plot_opts(function, dimensions, config_list, technical_replicates, name):\n",
    "    fig, ax = plt.subplots(1, len(config_list), figsize=(5.5*len(config_list),6), sharey=True)\n",
    "    fig.suptitle(name)\n",
    "    opts = {}\n",
    "    full_opts = {}\n",
    "    for i, config in enumerate(config_list):\n",
    "        opt_name = config['name']\n",
    "        full_opts[opt_name] = []\n",
    "        opt = (PSO_DE(function, n_dim=dimensions, config=config))\n",
    "        opt.record_mode = True\n",
    "        opt.run()\n",
    "        print('i: best_x is ', opt.gbest_x, 'best_y is', opt.gbest_y)\n",
    "        opts[opt_name] = opt\n",
    "        full_opts[opt_name].append(opt)\n",
    "        sum_loss = np.array(opt.gbest_y_hist)\n",
    "        sum_x = np.array(opt.gbest_x)\n",
    "        sum_y = opt.gbest_y\n",
    "        for t in range(technical_replicates-1):\n",
    "            opt = (PSO_DE(function, n_dim=dimensions, config=config))\n",
    "            opt.record_mode = True\n",
    "            opt.run()\n",
    "            full_opts[opt_name].append(opt)\n",
    "            sum_loss += opt.gbest_y_hist\n",
    "            sum_x += opt.gbest_x\n",
    "            sum_y += opt.gbest_y\n",
    "        #fig.add_subplot(1, len(configs), i+1)\n",
    "        average_loss = np.divide(sum_loss, technical_replicates)\n",
    "        average_x = np.divide(sum_x, technical_replicates)\n",
    "        average_y = sum_y / technical_replicates\n",
    "        #average_x = [\"{:.5e}\".format(x) for x in average_x]\n",
    "        results_text =  \"{:.5e}\".format(average_y[0]) + ' @ X: ' + str(average_x)\n",
    "        ax[i].plot(average_loss)\n",
    "        #plt.xlabel('Iteration')\n",
    "        ax[i].set_ylabel('Best Known F(X)')\n",
    "        ax[i].annotate(results_text, (0,0), (0,-20), xycoords='axes fraction', textcoords='offset points', va='top')\n",
    "        ax[i].set_title(opt_name)\n",
    "\n",
    "    fig.tight_layout()\n",
    "    plt.show()\n",
    "\n",
    "    return opts, full_opts"
   ]
  },
  {
   "cell_type": "code",
   "execution_count": null,
   "metadata": {},
   "outputs": [],
   "source": [
    "def plot_swarm_w_loss(opts, config_list, title=\"Swarm Diversity & Loss\"):\n",
    "    Y_history = []\n",
    "    fig, ax = plt.subplots(2, len(opts), figsize=(5*len(config_list),8), sharey='row')\n",
    "    fig.suptitle(title)\n",
    "    for i, key in enumerate(opts):\n",
    "        opt = opts[key]\n",
    "        Y_history = pd.DataFrame(np.array(opt.record_value['Y']).reshape((-1, opt.size_pop)))\n",
    "        ax[0,i].plot(Y_history.index, Y_history.values, '.')\n",
    "        ax[0,i].set_title(config_list[i]['name'])\n",
    "        Y_history.min(axis=1).cummin().plot(kind='line', ax=ax[1,i])\n",
    "        print(len(Y_history))\n",
    "    plt.show()"
   ]
  },
  {
   "cell_type": "markdown",
   "metadata": {},
   "source": [
    "Goldstein-Price's  objective function\n",
    "\n",
    "    Only takes two dimensions and has a global minimum at\n",
    "    :code:`f([0,-1])`. Its domain is bounded between :code:`[-2, 2]`\n",
    "\n",
    "    Best visualized in the domain of :code:`[-1.3,1.3]` and range :code:`[-1,8000]`"
   ]
  },
  {
   "cell_type": "code",
   "execution_count": null,
   "metadata": {},
   "outputs": [],
   "source": [
    "import copy\n",
    "n_dim = 2\n",
    "lb = [-2., -2.]\n",
    "ub = [2., 2.]\n",
    "\n",
    "global_opt = (0, -1, 3)\n"
   ]
  },
  {
   "cell_type": "code",
   "execution_count": null,
   "metadata": {},
   "outputs": [],
   "source": [
    "common_start = np.random.uniform(low=lb, high=ub, size=(size_pop, n_dim))\n",
    "\n",
    "for config in configs:\n",
    "    config[\"initial_guesses\"] = common_start\n",
    "    config[\"lb\"] = lb\n",
    "    config[\"ub\"] = ub\n",
    "    config[\"n_dim\"] = n_dim\n",
    "    config[\"vectorize_func\"] = False\n"
   ]
  },
  {
   "cell_type": "code",
   "execution_count": null,
   "metadata": {},
   "outputs": [],
   "source": [
    "#Plot the sphere function's mesh for better plots\n",
    "m = Mesher(func=example_funcs.goldstein, limits=[(-1.3,1.3), (-1.3,1.3)],  levels=[3., 3.0001, 3.001, 3.01, 3.1, 3.5, 4., 5., 7., 10., 20., 40., 80., 160., 320., 640., 1280.])\n",
    "#Adjust figure limits\n",
    "d = Designer(limits=[(-1.3,1.3), (-1.3,1.3), (-1,800)], label=['x-axis', 'y-axis', 'z-axis'])"
   ]
  },
  {
   "cell_type": "code",
   "execution_count": null,
   "metadata": {},
   "outputs": [],
   "source": [
    "opts, full_opts = run_plot_opts(example_funcs.goldstein, n_dim, configs, technical_replicates, 'Goldstein-Price\\nAverage Loss Over Optimization with '+ str(technical_replicates) + ' Technical Replicates')"
   ]
  },
  {
   "cell_type": "code",
   "execution_count": null,
   "metadata": {},
   "outputs": [],
   "source": [
    "plot_swarm_w_loss(opts, configs, 'Goldstein-Price')"
   ]
  },
  {
   "cell_type": "code",
   "execution_count": null,
   "metadata": {},
   "outputs": [],
   "source": [
    "fig, ax = plt.subplots(1, len(configs), figsize=(5.5*len(configs),4), sharey=True)\n",
    "fig.suptitle('Goldstein-Price\\nAverage Loss Over Optimization with '+ str(technical_replicates) + ' Technical Replicates')\n",
    "opts = {}\n",
    "full_opts = {}\n",
    "for i, config in enumerate(configs):\n",
    "    opt_name = config['name']\n",
    "    full_opts[opt_name] = []\n",
    "    opt = (PSO_DE(example_funcs.goldstein, n_dim=2, config=config))\n",
    "    opt.record_mode = True\n",
    "    opt.run()\n",
    "    print('i: best_x is ', opt.gbest_x, 'best_y is', opt.gbest_y)\n",
    "    opts[opt_name] = opt\n",
    "    full_opts[opt_name].append(opt)\n",
    "    sum_loss = np.array(opt.gbest_y_hist)\n",
    "    sum_x = np.array(opt.gbest_x)\n",
    "    sum_y = opt.gbest_y\n",
    "    for t in range(technical_replicates-1):\n",
    "        opt = (PSO_DE(example_funcs.goldstein, n_dim=2, config=config))\n",
    "        opt.record_mode = True\n",
    "        opt.run()\n",
    "        full_opts[opt_name].append(opt)\n",
    "        sum_loss += opt.gbest_y_hist\n",
    "        sum_x += opt.gbest_x\n",
    "        sum_y += opt.gbest_y\n",
    "    #fig.add_subplot(1, len(configs), i+1)\n",
    "    average_loss = np.divide(sum_loss, technical_replicates)\n",
    "    average_x = np.divide(sum_x, technical_replicates)\n",
    "    average_y = sum_y / technical_replicates\n",
    "    #average_x = [\"{:.5e}\".format(x) for x in average_x]\n",
    "    results_text =  \"{:.5e}\".format(average_y[0]) + ' @ X: ' + str(average_x)\n",
    "    ax[i].plot(average_loss)\n",
    "    #plt.xlabel('Iteration')\n",
    "    ax[i].set_ylabel('Best Known F(X)')\n",
    "    ax[i].annotate(results_text, (0,0), (0,-20), xycoords='axes fraction', textcoords='offset points', va='top')\n",
    "    ax[i].set_title(opt_name)\n",
    "    \n",
    "fig.tight_layout()\n",
    "plt.show()"
   ]
  },
  {
   "cell_type": "code",
   "execution_count": null,
   "metadata": {},
   "outputs": [],
   "source": [
    "import pandas as pd\n",
    "\n",
    "Y_history = []\n",
    "fig, ax = plt.subplots(2, len(opts), figsize=(5*len(configs),8), sharey='row')\n",
    "fig.suptitle('Goldstein-Price')\n",
    "for i, key in enumerate(opts):\n",
    "    opt = opts[key]\n",
    "    Y_history = pd.DataFrame(np.array(opt.record_value['Y']).reshape((-1, opt.size_pop)))\n",
    "    ax[0,i].plot(Y_history.index, Y_history.values, '.')\n",
    "    ax[0,i].set_title(configs[i]['name'])\n",
    "    #max_y = max(max_y, max(opt.record_value['gbest_Y']))\n",
    "    Y_history.min(axis=1).cummin().plot(kind='line', ax=ax[1,i])\n",
    "    print(len(Y_history))\n",
    "plt.show()"
   ]
  },
  {
   "cell_type": "code",
   "execution_count": null,
   "metadata": {},
   "outputs": [],
   "source": [
    "%%capture\n",
    "for i, opt in opts.items():\n",
    "    animation2D = plot_contour(pos_history=opts[i].record_value['X'], mesher=m, designer=d, mark=global_opt)\n",
    "    animation2D.save('goldstein_price_'+str(i)+'.gif', writer='ffmpeg', fps=20)"
   ]
  },
  {
   "cell_type": "code",
   "execution_count": null,
   "metadata": {},
   "outputs": [],
   "source": [
    "d.figsize= (len(configs) * 5.5, 15)\n",
    "ani_summary = plot_summary(optimizers=list(opts.values()), title=\"Goldstein-Price\", titles=[config['name'] for config in configs], mesher=m, designer=d, mark=global_opt)\n",
    "plt.show()\n"
   ]
  },
  {
   "cell_type": "code",
   "execution_count": null,
   "metadata": {},
   "outputs": [],
   "source": [
    "ani_summary.save('goldstein_price_summary.gif', writer='ffmpeg', fps=15)\n",
    "Image(url='goldstein_price_summary.gif')"
   ]
  },
  {
   "cell_type": "code",
   "execution_count": null,
   "metadata": {},
   "outputs": [],
   "source": [
    "%%capture\n",
    "for i, opt in opts.items():\n",
    "    pos_history_3d = m.compute_history_3d(opts[i].record_value['X']) #preprocessing\n",
    "    animation3d = plot_surface(pos_history=pos_history_3d, mesher=m, designer=d, title=\"Goldstein-Price\", mark=global_opt)\n",
    "    animation3d.save('goldstein_price_'+i+'_3d.gif', writer='ffmpeg', fps=15)\n",
    "    print(i)"
   ]
  },
  {
   "cell_type": "code",
   "execution_count": null,
   "metadata": {},
   "outputs": [],
   "source": [
    "Image('goldstein_price_Random_3d.gif')"
   ]
  },
  {
   "cell_type": "code",
   "execution_count": null,
   "metadata": {},
   "outputs": [],
   "source": [
    "%%capture\n",
    "d.limits = [(-1,1), (-1,1), (-0.1, 1.0)]\n",
    "for i, opt in opts.items():\n",
    "    pos_history_3d = m.compute_history_3d(opts[i].record_value['X']) #preprocessing\n",
    "    animation3d = plot_surface(pos_history=pos_history_3d, mesher=m, designer=d, title=\"Goldstein-Price\", mark=global_opt)\n",
    "    animation3d.save('goldstein_price_'+i+'_3d.gif', writer='ffmpeg', fps=15)\n",
    "    print(i)\n",
    "Image('goldstein_price_zoom_Random_3d.gif')"
   ]
  },
  {
   "cell_type": "markdown",
   "metadata": {},
   "source": [
    "Rosenbrock's  objective function\n",
    "\n",
    "    Also known as the Rosenbrock's valley or Rosenbrock's banana\n",
    "    function. Has a global minimum of :code:`np.ones(dimensions)` where\n",
    "    :code:`dimensions` is :code:`x.shape[1]`. The search domain is\n",
    "    :code:`[-inf, inf]`.\n"
   ]
  },
  {
   "cell_type": "code",
   "execution_count": null,
   "metadata": {},
   "outputs": [],
   "source": [
    "#Plot the sphere function's mesh for better plots\n",
    "m = Mesher(func=example_funcs.ps_rosenbrock, limits=[(-5,5), (-5,5)])\n",
    "#Adjust figure limits\n",
    "d = Designer(limits=[(-5,5), (-5,5), (-1,100)], label=['x-axis', 'y-axis', 'z-axis'])"
   ]
  },
  {
   "cell_type": "code",
   "execution_count": null,
   "metadata": {},
   "outputs": [],
   "source": [
    "n_dim = 2\n",
    "lb = [-100., -100.]\n",
    "ub = [100., 100.]\n",
    "common_start = np.random.uniform(low=lb, high=ub, size=(size_pop, n_dim))\n",
    "\n",
    "global_opt = (1, 1, 0)\n",
    "\n",
    "for config in configs:\n",
    "    config[\"initial_guesses\"] = common_start\n",
    "    config[\"lb\"] = lb\n",
    "    config[\"ub\"] = ub\n",
    "    config[\"n_dim\"] = n_dim\n",
    "    config[\"vectorize_func\"] = True"
   ]
  },
  {
   "cell_type": "code",
   "execution_count": null,
   "metadata": {},
   "outputs": [],
   "source": [
    "opts, full_opts = run_plot_opts(example_funcs.rosenbrock, n_dim, configs, technical_replicates, 'Rosenbrock\\nAverage Loss Over Optimization with '+ str(technical_replicates) + ' Technical Replicates')"
   ]
  },
  {
   "cell_type": "code",
   "execution_count": null,
   "metadata": {},
   "outputs": [],
   "source": [
    "import pandas as pd\n",
    "\n",
    "Y_history = []\n",
    "fig, ax = plt.subplots(2, len(opts), figsize=(5*len(configs),8), sharey='row')\n",
    "fig.suptitle('Rosenbrock')\n",
    "for i, key in enumerate(opts):\n",
    "    opt = opts[key]\n",
    "    Y_history = pd.DataFrame(np.array(opt.record_value['Y']).reshape((-1, opt.size_pop)))\n",
    "    ax[0,i].plot(Y_history.index, Y_history.values, '.')\n",
    "    ax[0,i].set_title(configs[i]['name'])\n",
    "    Y_history.min(axis=1).cummin().plot(kind='line', ax=ax[1,i])\n",
    "    print(len(Y_history))\n",
    "plt.show()"
   ]
  },
  {
   "cell_type": "code",
   "execution_count": null,
   "metadata": {},
   "outputs": [],
   "source": [
    "%%capture\n",
    "for i, opt in opts.items():\n",
    "    animation2D = plot_contour(pos_history=opts[i].record_value['X'], mesher=m, designer=d, mark=global_opt)\n",
    "    animation2D.save('rosenbrock_'+str(i)+'.gif', writer='ffmpeg', fps=20)"
   ]
  },
  {
   "cell_type": "code",
   "execution_count": null,
   "metadata": {},
   "outputs": [],
   "source": [
    "d.figsize= (len(configs) * 5.5, 15)\n",
    "ani_summary = plot_summary(optimizers=list(opts.values()), title=\"Rosenbrock\", titles=[config['name'] for config in configs], mesher=m, designer=d, mark=global_opt)\n",
    "plt.show()\n"
   ]
  },
  {
   "cell_type": "code",
   "execution_count": null,
   "metadata": {},
   "outputs": [],
   "source": [
    "ani_summary.save('rosenbrock_summary.gif', writer='ffmpeg', fps=15)\n",
    "Image(url='rosenbrock_summary.gif')"
   ]
  },
  {
   "cell_type": "code",
   "execution_count": null,
   "metadata": {},
   "outputs": [],
   "source": [
    "%%capture\n",
    "for i, opt in opts.items():\n",
    "    pos_history_3d = m.compute_history_3d(opts[i].record_value['X']) #preprocessing\n",
    "    animation3d = plot_surface(pos_history=pos_history_3d, mesher=m, designer=d, title=\"Rosenbrock\", mark=global_opt)\n",
    "    animation3d.save('rosenbrock_'+i+'_3d.gif', writer='ffmpeg', fps=15)\n",
    "    print(i)"
   ]
  },
  {
   "cell_type": "code",
   "execution_count": null,
   "metadata": {},
   "outputs": [],
   "source": [
    "Image('rosenbrock_Random_3d.gif')"
   ]
  },
  {
   "cell_type": "markdown",
   "metadata": {},
   "source": [
    "Beale's  objective function\n",
    "\n",
    "    Only takes two dimensions and has a global minimum of 0 at f([3,0.5]) Its domain is bounded between [-4.5, 4.5]"
   ]
  },
  {
   "cell_type": "code",
   "execution_count": null,
   "metadata": {},
   "outputs": [],
   "source": [
    "n_dim = 2\n",
    "lb = [-4.5, -4.5]\n",
    "ub = [4.5, 4.5]\n",
    "size_pop = 50\n",
    "common_start = np.random.uniform(low=lb, high=ub, size=(size_pop, n_dim))\n",
    "\n",
    "global_opt = (3, 0.5, 0)\n",
    "\n",
    "for config in configs:\n",
    "    config[\"initial_guesses\"] = common_start\n",
    "    config[\"lb\"] = lb\n",
    "    config[\"ub\"] = ub\n",
    "    config[\"n_dim\"] = n_dim\n",
    "    config[\"vectorize_func\"] = False"
   ]
  },
  {
   "cell_type": "code",
   "execution_count": null,
   "metadata": {},
   "outputs": [],
   "source": [
    "#Plot the sphere function's mesh for better plots\n",
    "m = Mesher(func=example_funcs.beale, limits=[(-4.5,4.5), (-4.5,4.5)])\n",
    "#Adjust figure limits\n",
    "d = Designer(limits=[(-4.5,4.5), (-4.5,4.5), (-0.5,100)], label=['x-axis', 'y-axis', 'z-axis'])"
   ]
  },
  {
   "cell_type": "code",
   "execution_count": null,
   "metadata": {},
   "outputs": [],
   "source": [
    "opts, full_opts = run_plot_opts(example_funcs.goldstein, n_dim, configs, technical_replicates, 'Beale\\nAverage Loss Over Optimization with '+ str(technical_replicates) + ' Technical Replicates')"
   ]
  },
  {
   "cell_type": "code",
   "execution_count": null,
   "metadata": {},
   "outputs": [],
   "source": [
    "import pandas as pd\n",
    "\n",
    "Y_history = []\n",
    "fig, ax = plt.subplots(2, len(opts), figsize=(5*len(configs),8), sharey='row')\n",
    "fig.suptitle('Beale')\n",
    "for i, key in enumerate(opts):\n",
    "    opt = opts[key]\n",
    "    Y_history = pd.DataFrame(np.array(opt.record_value['Y']).reshape((-1, opt.size_pop)))\n",
    "    ax[0,i].plot(Y_history.index, Y_history.values, '.')\n",
    "    ax[0,i].set_title(configs[i]['name'])\n",
    "    Y_history.min(axis=1).cummin().plot(kind='line', ax=ax[1,i])\n",
    "    print(len(Y_history))\n",
    "plt.show()"
   ]
  },
  {
   "cell_type": "code",
   "execution_count": null,
   "metadata": {},
   "outputs": [],
   "source": [
    "%%capture\n",
    "for i, opt in opts.items():\n",
    "    animation2D = plot_contour(pos_history=opts[i].record_value['X'], mesher=m, designer=d, mark=global_opt)\n",
    "    animation2D.save('beale_'+str(i)+'.gif', writer='ffmpeg', fps=20)"
   ]
  },
  {
   "cell_type": "code",
   "execution_count": null,
   "metadata": {},
   "outputs": [],
   "source": [
    "d.figsize= (len(configs) * 5.5, 15)\n",
    "ani_summary = plot_summary(optimizers=list(opts.values()), title=\"Beale\", titles=[config['name'] for config in configs], mesher=m, designer=d, mark=global_opt)\n",
    "plt.show()\n"
   ]
  },
  {
   "cell_type": "code",
   "execution_count": null,
   "metadata": {},
   "outputs": [],
   "source": [
    "ani_summary.save('beale_summary.gif', writer='ffmpeg', fps=15)\n",
    "Image(url='beale_summary.gif')"
   ]
  },
  {
   "cell_type": "code",
   "execution_count": null,
   "metadata": {},
   "outputs": [],
   "source": [
    "%%capture\n",
    "for i, opt in opts.items():\n",
    "    pos_history_3d = m.compute_history_3d(opts[i].record_value['X']) #preprocessing\n",
    "    animation3d = plot_surface(pos_history=pos_history_3d, mesher=m, designer=d, title=\"Beale\", mark=global_opt)\n",
    "    animation3d.save('beale_'+i+'_3d.gif', writer='ffmpeg', fps=15)\n",
    "    print(i)"
   ]
  },
  {
   "cell_type": "code",
   "execution_count": null,
   "metadata": {},
   "outputs": [],
   "source": [
    "Image('beale_Random_3d.gif')"
   ]
  },
  {
   "cell_type": "markdown",
   "metadata": {},
   "source": [
    "Booth's  objective function\n",
    "\n",
    "    Only takes two dimensions and has a global minimum of `0` at\n",
    "    :code:`f([1,3])`. Its domain is bounded between :code:`[-10, 10]`"
   ]
  },
  {
   "cell_type": "code",
   "execution_count": null,
   "metadata": {},
   "outputs": [],
   "source": [
    "n_dim = 2\n",
    "lb = [-10, -10]\n",
    "ub = [10, 10]\n",
    "size_pop = 50\n",
    "common_start = np.random.uniform(low=lb, high=ub, size=(size_pop, n_dim))\n",
    "\n",
    "global_opt = (1, 3, 0)\n",
    "\n",
    "for config in configs:\n",
    "    config[\"initial_guesses\"] = common_start\n",
    "    config[\"lb\"] = lb\n",
    "    config[\"ub\"] = ub\n",
    "    config[\"n_dim\"] = n_dim\n",
    "    config[\"vectorize_func\"] = False"
   ]
  },
  {
   "cell_type": "code",
   "execution_count": null,
   "metadata": {},
   "outputs": [],
   "source": [
    "#Plot the sphere function's mesh for better plots\n",
    "m = Mesher(func=example_funcs.booth, limits=[(-10, 10), (-10, 10)])\n",
    "#Adjust figure limits\n",
    "d = Designer(limits=[(-10, 10), (-10, 10), (0,10)], label=['x-axis', 'y-axis', 'z-axis'])"
   ]
  },
  {
   "cell_type": "code",
   "execution_count": null,
   "metadata": {},
   "outputs": [],
   "source": [
    "opts, full_opts = run_plot_opts(example_funcs.goldstein, n_dim, configs, technical_replicates, 'Booth\\nAverage Loss Over Optimization with '+ str(technical_replicates) + ' Technical Replicates')"
   ]
  },
  {
   "cell_type": "code",
   "execution_count": null,
   "metadata": {},
   "outputs": [],
   "source": [
    "import pandas as pd\n",
    "\n",
    "Y_history = []\n",
    "fig, ax = plt.subplots(2, len(opts), figsize=(5*len(configs),8), sharey='row')\n",
    "fig.suptitle('Booth')\n",
    "for i, key in enumerate(opts):\n",
    "    opt = opts[key]\n",
    "    Y_history = pd.DataFrame(np.array(opt.record_value['Y']).reshape((-1, opt.size_pop)))\n",
    "    ax[0,i].plot(Y_history.index, Y_history.values, '.')\n",
    "    ax[0,i].set_title(configs[i]['name'])\n",
    "    Y_history.min(axis=1).cummin().plot(kind='line', ax=ax[1,i])\n",
    "    print(len(Y_history))\n",
    "plt.show()"
   ]
  },
  {
   "cell_type": "code",
   "execution_count": null,
   "metadata": {},
   "outputs": [],
   "source": [
    "%%capture\n",
    "for i, opt in opts.items():\n",
    "    animation2D = plot_contour(pos_history=opts[i].record_value['X'], mesher=m, designer=d, mark=global_opt)\n",
    "    animation2D.save('booth_'+str(i)+'.gif', writer='ffmpeg', fps=20)"
   ]
  },
  {
   "cell_type": "code",
   "execution_count": null,
   "metadata": {},
   "outputs": [],
   "source": [
    "d.figsize= (len(configs) * 5.5, 15)\n",
    "ani_summary = plot_summary(optimizers=list(opts.values()), title=\"Booth\", titles=[config['name'] for config in configs], mesher=m, designer=d, mark=global_opt)\n",
    "plt.show()\n"
   ]
  },
  {
   "cell_type": "code",
   "execution_count": null,
   "metadata": {},
   "outputs": [],
   "source": [
    "ani_summary.save('booth_summary.gif', writer='ffmpeg', fps=15)\n",
    "Image(url='booth_summary.gif')"
   ]
  },
  {
   "cell_type": "code",
   "execution_count": null,
   "metadata": {},
   "outputs": [],
   "source": [
    "%%capture\n",
    "for i, opt in opts.items():\n",
    "    pos_history_3d = m.compute_history_3d(opts[i].record_value['X']) #preprocessing\n",
    "    animation3d = plot_surface(pos_history=pos_history_3d, mesher=m, designer=d, title=\"Booth\", mark=global_opt)\n",
    "    animation3d.save('booth_'+i+'_3d.gif', writer='ffmpeg', fps=15)\n",
    "    print(i)"
   ]
  },
  {
   "cell_type": "code",
   "execution_count": null,
   "metadata": {},
   "outputs": [],
   "source": [
    "Image('booth_Random_3d.gif')"
   ]
  },
  {
   "cell_type": "markdown",
   "metadata": {},
   "source": [
    "Bukin N. 6 Objective Function\n",
    "\n",
    "    Only takes two dimensions and has a global minimum  of `0` at\n",
    "    :code:`f([-10,1])`. Its coordinates are bounded by:\n",
    "        * x[:,0] must be within [-15, -5]\n",
    "        * x[:,1] must be within [-3, 3]"
   ]
  },
  {
   "cell_type": "code",
   "execution_count": null,
   "metadata": {},
   "outputs": [],
   "source": [
    "import copy\n",
    "n_dim = 2\n",
    "lb=[-15., -3.]\n",
    "ub = [-5., 3.]\n",
    "size_pop = 50\n",
    "common_start = np.random.uniform(low=lb, high=ub, size=(size_pop, n_dim))\n",
    "\n",
    "global_opt = (-10, 1, 0)\n",
    "\n",
    "for config in configs:\n",
    "    config[\"initial_guesses\"] = common_start\n",
    "    config[\"lb\"] = lb\n",
    "    config[\"ub\"] = ub\n",
    "    config[\"n_dim\"] = n_dim\n",
    "    config[\"vectorize_func\"] = False"
   ]
  },
  {
   "cell_type": "code",
   "execution_count": null,
   "metadata": {},
   "outputs": [],
   "source": [
    "#Plot the sphere function's mesh for better plots\n",
    "m = Mesher(func=example_funcs.bukin6, limits=[(-15,-5), (-3,3)])\n",
    "#Adjust figure limits\n",
    "d = Designer(limits=[(-15,-5), (-3,3), (0,100)], label=['x-axis', 'y-axis', 'z-axis'])"
   ]
  },
  {
   "cell_type": "code",
   "execution_count": null,
   "metadata": {},
   "outputs": [],
   "source": [
    "opts, full_opts = run_plot_opts(example_funcs.goldstein, n_dim, configs, technical_replicates, 'Bukin N.6\\nAverage Loss Over Optimization with '+ str(technical_replicates) + ' Technical Replicates')"
   ]
  },
  {
   "cell_type": "code",
   "execution_count": null,
   "metadata": {},
   "outputs": [],
   "source": [
    "import pandas as pd\n",
    "\n",
    "Y_history = []\n",
    "fig, ax = plt.subplots(2, len(opts), figsize=(5*len(configs),8), sharey='row')\n",
    "fig.suptitle('Bukin')\n",
    "for i, key in enumerate(opts):\n",
    "    opt = opts[key]\n",
    "    Y_history = pd.DataFrame(np.array(opt.record_value['Y']).reshape((-1, opt.size_pop)))\n",
    "    ax[0,i].plot(Y_history.index, Y_history.values, '.')\n",
    "    ax[0,i].set_title(configs[i]['name'])\n",
    "    Y_history.min(axis=1).cummin().plot(kind='line', ax=ax[1,i])\n",
    "    print(len(Y_history))\n",
    "plt.show()"
   ]
  },
  {
   "cell_type": "code",
   "execution_count": null,
   "metadata": {},
   "outputs": [],
   "source": [
    "%%capture\n",
    "for i, opt in opts.items():\n",
    "    animation2D = plot_contour(pos_history=opts[i].record_value['X'], mesher=m, designer=d, mark=global_opt)\n",
    "    animation2D.save('bukin_'+str(i)+'.gif', writer='ffmpeg', fps=20)"
   ]
  },
  {
   "cell_type": "code",
   "execution_count": null,
   "metadata": {},
   "outputs": [],
   "source": [
    "d.figsize= (len(configs) * 5.5, 15)\n",
    "ani_summary = plot_summary(optimizers=list(opts.values()), title=\"Bukin\", titles=[config['name'] for config in configs], mesher=m, designer=d, mark=global_opt)\n",
    "plt.show()\n"
   ]
  },
  {
   "cell_type": "code",
   "execution_count": null,
   "metadata": {},
   "outputs": [],
   "source": [
    "ani_summary.save('bukin_summary.gif', writer='ffmpeg', fps=15)\n",
    "Image(url='bukin_summary.gif')"
   ]
  },
  {
   "cell_type": "code",
   "execution_count": null,
   "metadata": {},
   "outputs": [],
   "source": [
    "%%capture\n",
    "for i, opt in opts.items():\n",
    "    pos_history_3d = m.compute_history_3d(opts[i].record_value['X']) #preprocessing\n",
    "    animation3d = plot_surface(pos_history=pos_history_3d, mesher=m, designer=d, title=\"Bukin\", mark=global_opt)\n",
    "    animation3d.save('bukin_'+i+'_3d.gif', writer='ffmpeg', fps=15)\n",
    "    print(i)"
   ]
  },
  {
   "cell_type": "code",
   "execution_count": null,
   "metadata": {},
   "outputs": [],
   "source": [
    "Image('bukin_Random_3d.gif')"
   ]
  },
  {
   "cell_type": "markdown",
   "metadata": {},
   "source": [
    "Rastrigin's  objective function\n",
    "\n",
    "    Has a global minimum at :code:`f(0,0,...,0)` with a search\n",
    "    domain of :code:`[-5.12, 5.12]`"
   ]
  },
  {
   "cell_type": "code",
   "execution_count": null,
   "metadata": {},
   "outputs": [],
   "source": [
    "import copy\n",
    "n_dim = 2\n",
    "lb=[-5.12, -5.12]\n",
    "ub = [5.12, 5.12]\n",
    "size_pop = 50\n",
    "common_start = np.random.uniform(low=lb, high=ub, size=(size_pop, n_dim))\n",
    "\n",
    "global_opt = (0, 0, 0)\n",
    "\n",
    "for config in configs:\n",
    "    config[\"initial_guesses\"] = common_start\n",
    "    config[\"lb\"] = lb\n",
    "    config[\"ub\"] = ub\n",
    "    config[\"n_dim\"] = n_dim\n",
    "    config[\"vectorize_func\"] = False"
   ]
  },
  {
   "cell_type": "code",
   "execution_count": null,
   "metadata": {},
   "outputs": [],
   "source": [
    "#Plot the sphere function's mesh for better plots\n",
    "m = Mesher(func=example_funcs.rastrigin, limits=[(-5.12,5.12), (-5.12,5.12)])\n",
    "#Adjust figure limits\n",
    "d = Designer(limits=[(-5.12,5.12), (-5.12,5.12), (0,10)], label=['x-axis', 'y-axis', 'z-axis'])"
   ]
  },
  {
   "cell_type": "code",
   "execution_count": null,
   "metadata": {},
   "outputs": [],
   "source": [
    "opts, full_opts = run_plot_opts(example_funcs.goldstein, n_dim, configs, technical_replicates, 'Rastrigin\\nAverage Loss Over Optimization with '+ str(technical_replicates) + ' Technical Replicates')"
   ]
  },
  {
   "cell_type": "code",
   "execution_count": null,
   "metadata": {},
   "outputs": [],
   "source": [
    "import pandas as pd\n",
    "\n",
    "Y_history = []\n",
    "fig, ax = plt.subplots(2, len(opts), figsize=(5*len(configs),8), sharey='row')\n",
    "fig.suptitle('Rastrigin')\n",
    "for i, key in enumerate(opts):\n",
    "    opt = opts[key]\n",
    "    Y_history = pd.DataFrame(np.array(opt.record_value['Y']).reshape((-1, opt.size_pop)))\n",
    "    ax[0,i].plot(Y_history.index, Y_history.values, '.')\n",
    "    ax[0,i].set_title(configs[i]['name'])\n",
    "    Y_history.min(axis=1).cummin().plot(kind='line', ax=ax[1,i])\n",
    "    print(len(Y_history))\n",
    "plt.show()"
   ]
  },
  {
   "cell_type": "code",
   "execution_count": null,
   "metadata": {},
   "outputs": [],
   "source": [
    "%%capture\n",
    "for i, opt in opts.items():\n",
    "    animation2D = plot_contour(pos_history=opts[i].record_value['X'], mesher=m, designer=d, mark=global_opt)\n",
    "    animation2D.save('rastrigin_'+str(i)+'.gif', writer='ffmpeg', fps=20)"
   ]
  },
  {
   "cell_type": "code",
   "execution_count": null,
   "metadata": {},
   "outputs": [],
   "source": [
    "d.figsize= (len(configs) * 5.5, 15)\n",
    "ani_summary = plot_summary(optimizers=list(opts.values()), title=\"Rastrigin\", titles=[config['name'] for config in configs], mesher=m, designer=d, mark=global_opt)\n",
    "plt.show()\n"
   ]
  },
  {
   "cell_type": "code",
   "execution_count": null,
   "metadata": {},
   "outputs": [],
   "source": [
    "ani_summary.save('rastrigin_summary.gif', writer='ffmpeg', fps=15)\n",
    "Image(url='rastrigin_summary.gif')"
   ]
  },
  {
   "cell_type": "code",
   "execution_count": null,
   "metadata": {},
   "outputs": [],
   "source": [
    "%%capture\n",
    "for i, opt in opts.items():\n",
    "    pos_history_3d = m.compute_history_3d(opts[i].record_value['X']) #preprocessing\n",
    "    animation3d = plot_surface(pos_history=pos_history_3d, mesher=m, designer=d, title=\"Rastrigin\", mark=global_opt)\n",
    "    animation3d.save('rastrigin_'+i+'_3d.gif', writer='ffmpeg', fps=15)\n",
    "    print(i)"
   ]
  },
  {
   "cell_type": "code",
   "execution_count": null,
   "metadata": {},
   "outputs": [],
   "source": [
    "Image('rastrigin_Random_3d.gif')"
   ]
  }
 ],
 "metadata": {
  "kernelspec": {
   "display_name": "pso_de_ho",
   "language": "python",
   "name": "python3"
  },
  "language_info": {
   "codemirror_mode": {
    "name": "ipython",
    "version": 3
   },
   "file_extension": ".py",
   "mimetype": "text/x-python",
   "name": "python",
   "nbconvert_exporter": "python",
   "pygments_lexer": "ipython3",
   "version": "3.11.2"
  }
 },
 "nbformat": 4,
 "nbformat_minor": 2
}
